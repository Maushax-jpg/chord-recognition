{
 "cells": [
  {
   "cell_type": "code",
   "execution_count": 1,
   "metadata": {},
   "outputs": [
    {
     "data": {
      "application/vnd.jupyter.widget-view+json": {
       "model_id": "1f4e44faa2de4c0daeb9f60f3a895dfb",
       "version_major": 2,
       "version_minor": 0
      },
      "text/plain": [
       "HBox(children=(Dropdown(description='Dataset:', layout=Layout(width='20%'), options=('beatles', 'rwc_popular')…"
      ]
     },
     "metadata": {},
     "output_type": "display_data"
    },
    {
     "data": {
      "application/vnd.jupyter.widget-view+json": {
       "model_id": "48daca8244c64a35be3da3f4f1c50185",
       "version_major": 2,
       "version_minor": 0
      },
      "text/plain": [
       "Output()"
      ]
     },
     "metadata": {},
     "output_type": "display_data"
    }
   ],
   "source": [
    "import dataloader\n",
    "import utilities\n",
    "import features\n",
    "import transcribe\n",
    "import matplotlib.pyplot as plt\n",
    "import numpy as np \n",
    "import librosa.display\n",
    "\n",
    "PATH = \"/home/max/ET-TI/Masterarbeit/mirdata/\"\n",
    "gui = dataloader.MIRDatasetGUI(PATH);"
   ]
  },
  {
   "cell_type": "markdown",
   "metadata": {},
   "source": [
    "Template based chord recognition approach with a quantized chromagram"
   ]
  },
  {
   "cell_type": "code",
   "execution_count": 10,
   "metadata": {},
   "outputs": [],
   "source": [
    "audiopath,(ref_intervals,ref_labels) = gui.getSelectedTrack()\n",
    "t,sig = utilities.loadAudio(audiopath,t_stop=30)\n",
    "t_chroma, chroma = features.crpChroma(sig,nCRP=30)"
   ]
  },
  {
   "cell_type": "markdown",
   "metadata": {},
   "source": [
    "Evaluation of correlation </br>\n",
    "beatinformation is not suited for </br>\n",
    "Post-filtering: if a chord duration is too short, try search for a better match "
   ]
  },
  {
   "cell_type": "code",
   "execution_count": 11,
   "metadata": {},
   "outputs": [],
   "source": [
    "t_chroma, chroma = features.crpChroma(sig,nCRP=30)\n",
    "chroma_cq = librosa.feature.chroma_cqt(y=sig, sr=22050,bins_per_octave=36)\n",
    "chroma_cq = chroma_cq / (np.sum(chroma_cq,axis=0)+np.finfo(float).eps)\n",
    "t_chroma_cq = np.linspace(sig.start,sig.stop,chroma_cq.shape[1])"
   ]
  },
  {
   "cell_type": "code",
   "execution_count": 13,
   "metadata": {},
   "outputs": [
    {
     "ename": "AttributeError",
     "evalue": "'tuple' object has no attribute 'shape'",
     "output_type": "error",
     "traceback": [
      "\u001b[0;31m---------------------------------------------------------------------------\u001b[0m",
      "\u001b[0;31mAttributeError\u001b[0m                            Traceback (most recent call last)",
      "\u001b[0;32m/tmp/ipykernel_16469/1694150304.py\u001b[0m in \u001b[0;36m<cell line: 6>\u001b[0;34m()\u001b[0m\n\u001b[1;32m      4\u001b[0m \u001b[0;31m# median filter\u001b[0m\u001b[0;34m\u001b[0m\u001b[0;34m\u001b[0m\u001b[0m\n\u001b[1;32m      5\u001b[0m \u001b[0;31m# chroma = scipy.ndimage.median_filter(chroma, size=(1, 5))\u001b[0m\u001b[0;34m\u001b[0m\u001b[0;34m\u001b[0m\u001b[0m\n\u001b[0;32m----> 6\u001b[0;31m \u001b[0mchroma\u001b[0m \u001b[0;34m=\u001b[0m \u001b[0mtranscribe\u001b[0m\u001b[0;34m.\u001b[0m\u001b[0mrecurrencySmoothing\u001b[0m\u001b[0;34m(\u001b[0m\u001b[0mchroma\u001b[0m\u001b[0;34m,\u001b[0m\u001b[0mM\u001b[0m\u001b[0;34m=\u001b[0m\u001b[0;36m10\u001b[0m\u001b[0;34m,\u001b[0m\u001b[0mtheta\u001b[0m\u001b[0;34m=\u001b[0m\u001b[0;36m40\u001b[0m\u001b[0;34m)\u001b[0m\u001b[0;34m\u001b[0m\u001b[0;34m\u001b[0m\u001b[0m\n\u001b[0m\u001b[1;32m      7\u001b[0m \u001b[0mtemplates\u001b[0m\u001b[0;34m,\u001b[0m\u001b[0mlabels\u001b[0m \u001b[0;34m=\u001b[0m \u001b[0mutilities\u001b[0m\u001b[0;34m.\u001b[0m\u001b[0mcreateChordTemplates\u001b[0m\u001b[0;34m(\u001b[0m\u001b[0mtemplate_type\u001b[0m\u001b[0;34m=\u001b[0m\u001b[0;34m\"majmin\"\u001b[0m\u001b[0;34m)\u001b[0m \u001b[0;31m# majmin ,triads,triads_extended, majmin_sevenths\u001b[0m\u001b[0;34m\u001b[0m\u001b[0;34m\u001b[0m\u001b[0m\n\u001b[1;32m      8\u001b[0m \u001b[0mcorrelation\u001b[0m \u001b[0;34m=\u001b[0m \u001b[0mnp\u001b[0m\u001b[0;34m.\u001b[0m\u001b[0mmatmul\u001b[0m\u001b[0;34m(\u001b[0m\u001b[0mtemplates\u001b[0m\u001b[0;34m.\u001b[0m\u001b[0mT\u001b[0m\u001b[0;34m,\u001b[0m\u001b[0mchroma\u001b[0m\u001b[0;34m)\u001b[0m\u001b[0;34m\u001b[0m\u001b[0;34m\u001b[0m\u001b[0m\n",
      "\u001b[0;32m~/ET-TI/Masterarbeit/chord-recognition/transcribe.py\u001b[0m in \u001b[0;36mrecurrencySmoothing\u001b[0;34m(chroma, M, theta)\u001b[0m\n\u001b[1;32m     73\u001b[0m         \u001b[0mneighbours\u001b[0m \u001b[0;34m.\u001b[0m\u001b[0;34m.\u001b[0m \u001b[0mparameter\u001b[0m \u001b[0;32mfor\u001b[0m \u001b[0madaptive\u001b[0m \u001b[0mThresholding\u001b[0m\u001b[0;34m\u001b[0m\u001b[0;34m\u001b[0m\u001b[0m\n\u001b[1;32m     74\u001b[0m     \"\"\"\n\u001b[0;32m---> 75\u001b[0;31m     \u001b[0;32mif\u001b[0m \u001b[0mchroma\u001b[0m\u001b[0;34m.\u001b[0m\u001b[0mshape\u001b[0m\u001b[0;34m[\u001b[0m\u001b[0;36m0\u001b[0m\u001b[0;34m]\u001b[0m \u001b[0;34m!=\u001b[0m \u001b[0;36m12\u001b[0m\u001b[0;34m:\u001b[0m\u001b[0;34m\u001b[0m\u001b[0;34m\u001b[0m\u001b[0m\n\u001b[0m\u001b[1;32m     76\u001b[0m         \u001b[0;32mraise\u001b[0m \u001b[0mValueError\u001b[0m\u001b[0;34m(\u001b[0m\u001b[0;34mf\"invalid chromagram shape!\"\u001b[0m\u001b[0;34m)\u001b[0m\u001b[0;34m\u001b[0m\u001b[0;34m\u001b[0m\u001b[0m\n\u001b[1;32m     77\u001b[0m     \u001b[0mN\u001b[0m \u001b[0;34m=\u001b[0m \u001b[0mchroma\u001b[0m\u001b[0;34m.\u001b[0m\u001b[0mshape\u001b[0m\u001b[0;34m[\u001b[0m\u001b[0;36m1\u001b[0m\u001b[0;34m]\u001b[0m\u001b[0;34m\u001b[0m\u001b[0;34m\u001b[0m\u001b[0m\n",
      "\u001b[0;31mAttributeError\u001b[0m: 'tuple' object has no attribute 'shape'"
     ]
    }
   ],
   "source": [
    "\n",
    "#### Pre-Filtering\n",
    "# beat-synchronous filtering\n",
    "# chroma = utilities.smoothChromagram(t_chroma,chroma,beats)\n",
    "# median filter\n",
    "# chroma = scipy.ndimage.median_filter(chroma, size=(1, 5))\n",
    "chroma,W = transcribe.recurrencySmoothing(chroma,M=10,theta=40)\n",
    "templates,labels = utilities.createChordTemplates(template_type=\"majmin\") # majmin ,triads,triads_extended, majmin_sevenths\n",
    "correlation = np.matmul(templates.T,chroma)\n",
    "correlation = np.clip(correlation,a_min=0,a_max=10)\n",
    "est_intervals,est_labels = transcribe.transcribeHMM(t_chroma,chroma,rms=None,p=0.2,template_type=\"majmin\")\n",
    "\n",
    "\n",
    "# plot Templates\n",
    "# fig,ax = plt.subplots(figsize=(8.27,5))\n",
    "# librosa.display.specshow(templates.T,ax=ax, cmap=\"Reds\")\n",
    "# labels = [\"C\",\"D\",\"E\",\"F\",\"G\",\"A\",\"B\",\"Cm\",\"Dm\",\"Em\",\"Fm\",\"Gm\",\"Am\",\"Bm\",\"N\"]\n",
    "# xticks = [0,2,4,5,7,9,11,12,14,16,17,19,21,23,24]\n",
    "# ax.set_xticks(xticks)\n",
    "# ax.set_xticklabels(labels)\n",
    "# ax.set_yticks(xticks[:7])\n",
    "# ax.set_yticklabels(labels[:7])\n",
    "# ax.set_ylabel(\"pitch class\")\n",
    "# ax.set_xlabel(\"chord label\")\n",
    "\n",
    "\n",
    "fig,ax = plt.subplots(5,2,height_ratios=(1,1,10,5,5),width_ratios=(50,1),figsize=(8.27,10))\n",
    "utilities.plotChordAnnotations(ax[0,0],(ref_intervals,ref_labels),(0,15))\n",
    "ax[0,0].text(0,1.7,\"Annotations\")\n",
    "utilities.plotChordAnnotations(ax[1,0],(est_intervals,est_labels),(0,15))\n",
    "ax[1,0].text(0,1.7,\"Estimations\")\n",
    "img = librosa.display.specshow(correlation,x_coords=t_chroma.T,x_axis='time', vmin=0,vmax=np.max(correlation),cmap='Reds', ax=ax[2,0])\n",
    "\n",
    "labels = [\"C\",\"C#\",\"D\",\"D#\",\"E\",\"F\",\"F#\",\"G\",\"G#\",\"A\",\"A#\",\"B\",\"Cm\",\"C#m\",\"Dm\",\"D#m\",\"Em\",\"Fm\",\"F#m\",\"Gm\",\"G#m\",\"Am\",\"A#m\",\"Bm\",\"N\"]\n",
    "yticks = np.arange(0,25,1)\n",
    "# ax[2,0].plot(t_chroma,10*d_mkl)\n",
    "ax[2,0].set_yticks(yticks)\n",
    "ax[2,0].set_yticklabels(labels)\n",
    "ax[2,0].set_xlim([0,15])\n",
    "\n",
    "ax[2,1].text(-2.5,0.1,\"Correlation CRP\",rotation=\"vertical\")\n",
    "fig.colorbar(img,cax=ax[2,1],cmap=\"bwr\")\n",
    "img = utilities.plotChromagram(ax[3,0],t_chroma,chroma,None,None,vmin=-np.max(chroma),vmax=np.max(chroma),cmap='bwr')\n",
    "fig.colorbar(img,cax=ax[3,1],cmap=\"bwr\")\n",
    "ax[3,0].set_xlim([0,15])\n",
    "ax[3,1].text(-2.5,0,\"CRP\",rotation=\"vertical\")\n",
    "ax[0,1].set_axis_off()\n",
    "ax[1,1].set_axis_off()\n",
    "img = utilities.plotChromagram(ax[4,0],t_chroma_cq,chroma_cq,None,None,vmin=0,vmax=np.max(chroma_cq))#\n",
    "ax[4,0].set_xlim([0,15])\n",
    "ax[4,1].text(-2.5,0.3,\"CQT\",rotation=\"vertical\")\n",
    "fig.colorbar(img,cax=ax[4,1],cmap=\"Reds\")"
   ]
  }
 ],
 "metadata": {
  "kernelspec": {
   "display_name": "Python 3",
   "language": "python",
   "name": "python3"
  },
  "language_info": {
   "codemirror_mode": {
    "name": "ipython",
    "version": 3
   },
   "file_extension": ".py",
   "mimetype": "text/x-python",
   "name": "python",
   "nbconvert_exporter": "python",
   "pygments_lexer": "ipython3",
   "version": "3.10.12"
  }
 },
 "nbformat": 4,
 "nbformat_minor": 2
}
