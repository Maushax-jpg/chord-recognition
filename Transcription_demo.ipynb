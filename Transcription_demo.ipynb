{
 "cells": [
  {
   "cell_type": "code",
   "execution_count": 1,
   "metadata": {},
   "outputs": [
    {
     "data": {
      "application/vnd.jupyter.widget-view+json": {
       "model_id": "8f3063c3b37b4959af6783dec12bb6eb",
       "version_major": 2,
       "version_minor": 0
      },
      "text/plain": [
       "HBox(children=(Dropdown(description='Dataset:', layout=Layout(width='20%'), options=('beatles', 'rwc_popular')…"
      ]
     },
     "metadata": {},
     "output_type": "display_data"
    },
    {
     "data": {
      "application/vnd.jupyter.widget-view+json": {
       "model_id": "1cd8d046287c405582255797ce51462d",
       "version_major": 2,
       "version_minor": 0
      },
      "text/plain": [
       "Output()"
      ]
     },
     "metadata": {},
     "output_type": "display_data"
    }
   ],
   "source": [
    "import dataloader\n",
    "import utilities\n",
    "import features\n",
    "import transcribe\n",
    "import matplotlib.pyplot as plt\n",
    "import numpy as np \n",
    "import librosa.display\n",
    "\n",
    "PATH = \"/home/max/ET-TI/Masterarbeit/mirdata/\"\n",
    "gui = dataloader.MIRDatasetGUI(PATH);"
   ]
  },
  {
   "cell_type": "markdown",
   "metadata": {},
   "source": [
    "Template based chord recognition approach with a quantized chromagram"
   ]
  },
  {
   "cell_type": "code",
   "execution_count": 2,
   "metadata": {},
   "outputs": [],
   "source": [
    "audiopath,(ref_intervals,ref_labels) = gui.getSelectedTrack()\n",
    "t,sig = utilities.loadAudio(audiopath,t_stop=30)\n",
    "t_chroma, chroma = features.crpChroma(sig,nCRP=30)"
   ]
  },
  {
   "cell_type": "markdown",
   "metadata": {},
   "source": [
    "Evaluation of correlation </br>\n",
    "beatinformation is not suited for </br>\n",
    "Post-filtering: if a chord duration is too short, try search for a better match "
   ]
  },
  {
   "cell_type": "code",
   "execution_count": 3,
   "metadata": {},
   "outputs": [],
   "source": [
    "t_chroma, chroma = features.crpChroma(sig,nCRP=30)\n",
    "chroma_cq = librosa.feature.chroma_cqt(y=sig, sr=22050,bins_per_octave=36)\n",
    "chroma_cq = chroma_cq / (np.sum(chroma_cq,axis=0)+np.finfo(float).eps)\n",
    "t_chroma_cq = np.linspace(sig.start,sig.stop,chroma_cq.shape[1])"
   ]
  },
  {
   "cell_type": "code",
   "execution_count": 21,
   "metadata": {},
   "outputs": [
    {
     "ename": "AttributeError",
     "evalue": "'Colorbar' object has no attribute 'set_yticks'",
     "output_type": "error",
     "traceback": [
      "\u001b[0;31m---------------------------------------------------------------------------\u001b[0m",
      "\u001b[0;31mAttributeError\u001b[0m                            Traceback (most recent call last)",
      "\u001b[0;32m/tmp/ipykernel_26866/3830047303.py\u001b[0m in \u001b[0;36m<cell line: 25>\u001b[0;34m()\u001b[0m\n\u001b[1;32m     23\u001b[0m \u001b[0max\u001b[0m\u001b[0;34m.\u001b[0m\u001b[0mset_xlabel\u001b[0m\u001b[0;34m(\u001b[0m\u001b[0;34m\"chord label\"\u001b[0m\u001b[0;34m)\u001b[0m\u001b[0;34m\u001b[0m\u001b[0;34m\u001b[0m\u001b[0m\n\u001b[1;32m     24\u001b[0m \u001b[0mcbar\u001b[0m \u001b[0;34m=\u001b[0m \u001b[0mfig\u001b[0m\u001b[0;34m.\u001b[0m\u001b[0mcolorbar\u001b[0m\u001b[0;34m(\u001b[0m\u001b[0mimg\u001b[0m\u001b[0;34m,\u001b[0m \u001b[0max\u001b[0m\u001b[0;34m=\u001b[0m\u001b[0max\u001b[0m\u001b[0;34m)\u001b[0m\u001b[0;34m\u001b[0m\u001b[0;34m\u001b[0m\u001b[0m\n\u001b[0;32m---> 25\u001b[0;31m \u001b[0mcbar\u001b[0m\u001b[0;34m.\u001b[0m\u001b[0mset_yticks\u001b[0m\u001b[0;34m(\u001b[0m\u001b[0;34m[\u001b[0m\u001b[0;34m-\u001b[0m\u001b[0;36m1\u001b[0m\u001b[0;34m,\u001b[0m\u001b[0;36m0\u001b[0m\u001b[0;34m,\u001b[0m\u001b[0;36m1\u001b[0m\u001b[0;34m,\u001b[0m\u001b[0;36m2\u001b[0m\u001b[0;34m,\u001b[0m\u001b[0;36m3\u001b[0m\u001b[0;34m]\u001b[0m\u001b[0;34m)\u001b[0m\u001b[0;34m\u001b[0m\u001b[0;34m\u001b[0m\u001b[0m\n\u001b[0m\u001b[1;32m     26\u001b[0m \u001b[0;34m\u001b[0m\u001b[0m\n\u001b[1;32m     27\u001b[0m \u001b[0mfig\u001b[0m\u001b[0;34m,\u001b[0m\u001b[0max\u001b[0m \u001b[0;34m=\u001b[0m \u001b[0mplt\u001b[0m\u001b[0;34m.\u001b[0m\u001b[0msubplots\u001b[0m\u001b[0;34m(\u001b[0m\u001b[0;36m4\u001b[0m\u001b[0;34m,\u001b[0m\u001b[0;36m2\u001b[0m\u001b[0;34m,\u001b[0m\u001b[0mheight_ratios\u001b[0m\u001b[0;34m=\u001b[0m\u001b[0;34m(\u001b[0m\u001b[0;36m1\u001b[0m\u001b[0;34m,\u001b[0m\u001b[0;36m1\u001b[0m\u001b[0;34m,\u001b[0m\u001b[0;36m10\u001b[0m\u001b[0;34m,\u001b[0m\u001b[0;36m5\u001b[0m\u001b[0;34m)\u001b[0m\u001b[0;34m,\u001b[0m\u001b[0mwidth_ratios\u001b[0m\u001b[0;34m=\u001b[0m\u001b[0;34m(\u001b[0m\u001b[0;36m50\u001b[0m\u001b[0;34m,\u001b[0m\u001b[0;36m1\u001b[0m\u001b[0;34m)\u001b[0m\u001b[0;34m,\u001b[0m\u001b[0mfigsize\u001b[0m\u001b[0;34m=\u001b[0m\u001b[0;34m(\u001b[0m\u001b[0;36m8.27\u001b[0m\u001b[0;34m,\u001b[0m\u001b[0;36m10\u001b[0m\u001b[0;34m)\u001b[0m\u001b[0;34m)\u001b[0m\u001b[0;34m\u001b[0m\u001b[0;34m\u001b[0m\u001b[0m\n",
      "\u001b[0;31mAttributeError\u001b[0m: 'Colorbar' object has no attribute 'set_yticks'"
     ]
    },
    {
     "data": {
      "image/png": "[encoded data removed]",
      "text/plain": [
       "<Figure size 827x500 with 2 Axes>"
      ]
     },
     "metadata": {},
     "output_type": "display_data"
    }
   ],
   "source": [
    "\n",
    "#### Pre-Filtering\n",
    "# beat-synchronous filtering\n",
    "# chroma = utilities.smoothChromagram(t_chroma,chroma,beats)\n",
    "# median filter\n",
    "# chroma = scipy.ndimage.median_filter(chroma, size=(1, 5))\n",
    "# chroma,W = transcribe.recurrencySmoothing(chroma,M=1,theta=20)\n",
    "templates,labels = utilities.createChordTemplates(template_type=\"majmin\") # majmin ,triads,triads_extended, majmin_sevenths\n",
    "correlation = np.matmul(templates.T,chroma)\n",
    "correlation = np.clip(correlation,a_min=-10,a_max=10)\n",
    "est_intervals,est_labels = transcribe.transcribeHMM(t_chroma,chroma,rms=None,p=0.2,template_type=\"majmin\")\n",
    "\n",
    "\n",
    "# plot Templates\n",
    "fig,ax = plt.subplots(figsize=(8.27,5))\n",
    "img = librosa.display.specshow(templates,ax=ax, cmap=\"bwr\",vmin=-np.max(templates),vmax=np.max(templates))\n",
    "labels = [\"C\",\"D\",\"E\",\"F\",\"G\",\"A\",\"B\",\"Cm\",\"Dm\",\"Em\",\"Fm\",\"Gm\",\"Am\",\"Bm\",\"N\"]\n",
    "xticks = [0,2,4,5,7,9,11,12,14,16,17,19,21,23,24]\n",
    "ax.set_xticks(xticks)\n",
    "ax.set_xticklabels(labels)\n",
    "ax.set_yticks(xticks[:7])\n",
    "ax.set_yticklabels(labels[:7])\n",
    "ax.set_ylabel(\"pitch class\")\n",
    "ax.set_xlabel(\"chord label\")\n",
    "cbar = fig.colorbar(img, ax=ax)\n",
    "\n",
    "fig,ax = plt.subplots(4,2,height_ratios=(1,1,10,5),width_ratios=(50,1),figsize=(8.27,10))\n",
    "utilities.plotChordAnnotations(ax[0,0],(ref_intervals,ref_labels),(0,15))\n",
    "ax[0,0].text(0,1.7,\"Annotations\")\n",
    "utilities.plotChordAnnotations(ax[1,0],(est_intervals,est_labels),(0,15))\n",
    "ax[1,0].text(0,1.7,\"Estimations\")\n",
    "img = librosa.display.specshow(correlation,x_coords=t_chroma.T,x_axis='time', vmin=np.min(correlation),vmax=np.max(correlation),cmap='Reds', ax=ax[2,0])\n",
    "\n",
    "labels = [\"C\",\"C#\",\"D\",\"D#\",\"E\",\"F\",\"F#\",\"G\",\"G#\",\"A\",\"A#\",\"B\",\"Cm\",\"C#m\",\"Dm\",\"D#m\",\"Em\",\"Fm\",\"F#m\",\"Gm\",\"G#m\",\"Am\",\"A#m\",\"Bm\",\"N\"]\n",
    "yticks = np.arange(0,25,1)\n",
    "# ax[2,0].plot(t_chroma,10*d_mkl)\n",
    "ax[2,0].set_yticks(yticks)\n",
    "ax[2,0].set_yticklabels(labels)\n",
    "ax[2,0].set_xlim([0,15])\n",
    "\n",
    "ax[2,1].text(-2.5,0.1,\"Correlation CRP\",rotation=\"vertical\")\n",
    "fig.colorbar(img,cax=ax[2,1],cmap=\"bwr\")\n",
    "img = utilities.plotChromagram(ax[3,0],t_chroma,chroma,chroma_type=\"crp\")\n",
    "fig.colorbar(img,cax=ax[3,1],cmap=\"bwr\")\n",
    "ax[3,0].set_xlim([0,15])\n",
    "ax[3,1].text(-2.5,0,\"CRP\",rotation=\"vertical\")\n",
    "ax[0,1].set_axis_off()\n",
    "ax[1,1].set_axis_off()"
   ]
  }
 ],
 "metadata": {
  "kernelspec": {
   "display_name": "Python 3",
   "language": "python",
   "name": "python3"
  },
  "language_info": {
   "codemirror_mode": {
    "name": "ipython",
    "version": 3
   },
   "file_extension": ".py",
   "mimetype": "text/x-python",
   "name": "python",
   "nbconvert_exporter": "python",
   "pygments_lexer": "ipython3",
   "version": "3.10.13"
  }
 },
 "nbformat": 4,
 "nbformat_minor": 2
}
