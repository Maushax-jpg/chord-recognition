{
 "cells": [
  {
   "cell_type": "markdown",
   "metadata": {},
   "source": [
    "## EVALUATION NOTEBOOK"
   ]
  },
  {
   "cell_type": "markdown",
   "metadata": {},
   "source": [
    "### Visualize Training data"
   ]
  },
  {
   "cell_type": "code",
   "execution_count": null,
   "metadata": {},
   "outputs": [],
   "source": [
    "import features\n",
    "import numpy as np\n",
    "import utils\n",
    "import matplotlib.pyplot as plt\n",
    "import dataloader\n",
    "import pitchspace\n",
    "import h5py\n",
    "import mir_eval\n",
    "\n",
    "dset = \"beatles\"\n",
    "track_id = \"0109\" \n",
    "dataset = dataloader.Dataloader(dset,\"mirdata\",\"none\")\n",
    "classifier = pitchspace.CPSS_Classifier(alphabet=\"sevenths\")\n",
    "audiopath, annotationpath = dataset[track_id] \n",
    "dcp = features.deepChroma(audiopath)\n",
    "t_dcp = utils.timeVector(dcp.shape[1],hop_length=2205)\n",
    "chroma,_,_ = features.crpChroma(utils.loadAudiofile(filepath=audiopath,duration=20))\n",
    "t_chroma = utils.timeVector(dcp.shape[1],hop_length=2048)\n",
    "fig,ax = plt.subplots(2,1,figsize=(6,3))\n",
    "utils.plotChromagram(ax[0],t_dcp,dcp,(0,20))\n",
    "utils.plotChromagram(ax[1],t_chroma,chroma,(0,20))"
   ]
  }
 ],
 "metadata": {
  "kernelspec": {
   "display_name": "acr",
   "language": "python",
   "name": "python3"
  },
  "language_info": {
   "codemirror_mode": {
    "name": "ipython",
    "version": 3
   },
   "file_extension": ".py",
   "mimetype": "text/x-python",
   "name": "python",
   "nbconvert_exporter": "python",
   "pygments_lexer": "ipython3",
   "version": "3.10.13"
  }
 },
 "nbformat": 4,
 "nbformat_minor": 2
}
