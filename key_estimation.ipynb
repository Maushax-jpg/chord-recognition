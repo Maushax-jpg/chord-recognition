{
 "cells": [
  {
   "cell_type": "code",
   "execution_count": null,
   "metadata": {},
   "outputs": [],
   "source": [
    "import utilities\n",
    "import features\n",
    "import librosa\n",
    "import matplotlib\n",
    "import matplotlib.pyplot as plt\n",
    "import numpy as np\n",
    "import mir_eval\n",
    "import pitchspace\n",
    "import itertools\n",
    "start = 0\n",
    "stop = 20\n",
    "path = \"/home/max/ET-TI/Masterarbeit/mirdata/beatles/\"\n",
    "# title = \"06_-_Rubber_Soul/11_-_In_My_Life\"\n",
    "# title = \"12_-_Let_It_Be/06_-_Let_It_Be\"\n",
    "title = \"10CD1_-_The_Beatles/CD1_-_17_-_Julia\"\n",
    "\n",
    "y,sr = librosa.load(path+\"/audio/\"+title+\".wav\",mono=True,offset=start,duration=stop-start,sr=22050)\n",
    "y = y / np.max(y)\n",
    "target = mir_eval.io.load_labeled_intervals(path+\"/annotations/chordlab/The Beatles/\"+title+\".lab\",' ','#')\n",
    "t, chroma = features.crpChroma(y,nCRP=22)\n",
    "\n",
    "r_F,_,_,_ = pitchspace.transformChroma(chroma)\n",
    "pc_energy = pitchspace.getPitchClassEnergyProfile(chroma,threshold=0.75,angle_weight=0.5)\n",
    "\n",
    "keys = np.argsort(pc_energy,axis=1)[:,-3:]\n",
    "fig,ax = plt.subplots(4,1,height_ratios=(1,5,5,5),figsize=(9,9))\n",
    "utilities.plotChordAnnotations(ax[0],target,(start,stop))\n",
    "utilities.plotChromagram(ax[1],t,pc_energy)\n",
    "#pitchspace.plotCircleF(ax[1])\n",
    "colors = [\"blue\",\"lightblue\", \"green\", \"red\", \"orange\", \"purple\", \"grey\", \"lightgreen\",\"brown\", \"magenta\", \"teal\",\"cyan\"]\n",
    "for i in range(r_F.shape[0]):\n",
    "    # rotate vector for plot\n",
    "    #z = r_F[i] * 1j\n",
    "    ax[2].plot(t[i],keys[i,0],'o',color='grey', markersize=1)\n",
    "    ax[2].plot(t[i],keys[i,1],'o',color='grey', markersize=1)\n",
    "    ax[2].plot(t[i],keys[i,2],'o',color='grey', markersize=1)\n"
   ]
  }
 ],
 "metadata": {
  "language_info": {
   "name": "python"
  },
  "orig_nbformat": 4
 },
 "nbformat": 4,
 "nbformat_minor": 2
}
