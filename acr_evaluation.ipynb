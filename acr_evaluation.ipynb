{
 "cells": [
  {
   "cell_type": "code",
   "execution_count": 1,
   "metadata": {},
   "outputs": [
    {
     "ename": "ModuleNotFoundError",
     "evalue": "No module named 'evaluation'",
     "output_type": "error",
     "traceback": [
      "\u001b[0;31m---------------------------------------------------------------------------\u001b[0m",
      "\u001b[0;31mModuleNotFoundError\u001b[0m                       Traceback (most recent call last)",
      "\u001b[0;32m/tmp/ipykernel_241372/4029028742.py\u001b[0m in \u001b[0;36m<cell line: 1>\u001b[0;34m()\u001b[0m\n\u001b[0;32m----> 1\u001b[0;31m \u001b[0;32mimport\u001b[0m \u001b[0mevaluation\u001b[0m\u001b[0;34m\u001b[0m\u001b[0;34m\u001b[0m\u001b[0m\n\u001b[0m\u001b[1;32m      2\u001b[0m \u001b[0mget_ipython\u001b[0m\u001b[0;34m(\u001b[0m\u001b[0;34m)\u001b[0m\u001b[0;34m.\u001b[0m\u001b[0mrun_line_magic\u001b[0m\u001b[0;34m(\u001b[0m\u001b[0;34m'matplotlib'\u001b[0m\u001b[0;34m,\u001b[0m \u001b[0;34m'inline'\u001b[0m\u001b[0;34m)\u001b[0m\u001b[0;34m\u001b[0m\u001b[0;34m\u001b[0m\u001b[0m\n\u001b[1;32m      3\u001b[0m \u001b[0;34m\u001b[0m\u001b[0m\n\u001b[1;32m      4\u001b[0m \u001b[0mevaluation\u001b[0m\u001b[0;34m.\u001b[0m\u001b[0mhdf5GUI\u001b[0m\u001b[0;34m(\u001b[0m\u001b[0;34m\"/home/max/ET-TI/Masterarbeit/chord-recognition/results\"\u001b[0m\u001b[0;34m)\u001b[0m\u001b[0;34m;\u001b[0m\u001b[0;34m\u001b[0m\u001b[0;34m\u001b[0m\u001b[0m\n",
      "\u001b[0;31mModuleNotFoundError\u001b[0m: No module named 'evaluation'"
     ]
    }
   ],
   "source": [
    "import evaluate\n",
    "%matplotlib inline\n",
    "\n",
    "evaluate.hdf5GUI(\"/home/max/ET-TI/Masterarbeit/chord-recognition/results\");\n"
   ]
  },
  {
   "cell_type": "code",
   "execution_count": 2,
   "metadata": {},
   "outputs": [
    {
     "name": "stdout",
     "output_type": "stream",
     "text": [
      "[('1', (0.13629629629629628, 0.08, 0.46)), ('15', (0.24359999999999998, 0.21, 0.29))]\n"
     ]
    }
   ],
   "source": [
    "import h5py \n",
    "import json\n",
    "import numpy as np\n",
    "import matplotlib.pyplot as plt\n",
    "import utils\n",
    "\n",
    "# load data from hdf5 files\n",
    "datasets = [\"beatles\",\"rw\",\"rwc_pop\",\"queen\"]\n",
    "source_separation = [\"none\",\"vocals\",\"drums\",\"both\"]\n",
    "results = {}\n",
    "for ii in range(4):\n",
    "    dataset_results = {}\n",
    "    for jj in range(4):\n",
    "        with h5py.File(f\"../results/majmin_rp_25_50/{source_separation[jj]}.hdf5\", 'r') as file:\n",
    "            # load parameters\n",
    "            params = json.loads(file['/parameters'][()])\n",
    "            # print(params)\n",
    "            # load majmin scores\n",
    "            scores = {}\n",
    "            for track_id in file[f\"/{datasets[ii]}\"]:\n",
    "                track_data = file[f\"/{datasets[ii]}/{track_id}\"]\n",
    "                # harmonic mean, seg_score\n",
    "                majmin_score,seg_score = track_data.attrs.get(\"majmin\"),track_data.attrs.get(\"seg\")\n",
    "                f_score = (2 * majmin_score * seg_score) / (majmin_score + seg_score)\n",
    "                scores[track_id] = (f_score,majmin_score,seg_score)\n",
    "        dataset_results[source_separation[jj]] = scores\n",
    "    results[datasets[ii]] = dataset_results\n",
    "\n",
    "\n",
    "x = [(k,v) for k,v in results[\"queen\"][\"none\"].items() if v[0]<0.5]\n",
    "print(x)"
   ]
  },
  {
   "cell_type": "markdown",
   "metadata": {},
   "source": [
    "RW : \"0213\",\"0214\",\"0305\" </br>\n",
    "RWC : \"RM-P002\",\"RM-P016\",\"RM-P025\",\"RM-P028\",\"RM-P030\",RM-P031\",\"RM-P080\",\"RM-P092\" </br>\n",
    "beatles : \"0103-Anna Go to Him\",\"0105\",\"0505\",\"0808\",\"0810\",\"10102\",\"10105\",\"10106\",\"10114\",\"10212\",\"1208\" </br>\n",
    "queen : \"1\" , \"15\" \"bohemian rhapsody\", \"Seven days of rhye\""
   ]
  },
  {
   "cell_type": "code",
   "execution_count": 4,
   "metadata": {},
   "outputs": [
    {
     "ename": "ValueError",
     "evalue": "X must have 2 or fewer dimensions",
     "output_type": "error",
     "traceback": [
      "\u001b[0;31m---------------------------------------------------------------------------\u001b[0m",
      "\u001b[0;31mValueError\u001b[0m                                Traceback (most recent call last)",
      "\u001b[0;32m/tmp/ipykernel_227108/2021364499.py\u001b[0m in \u001b[0;36m<cell line: 12>\u001b[0;34m()\u001b[0m\n\u001b[1;32m     10\u001b[0m \u001b[0;34m\u001b[0m\u001b[0m\n\u001b[1;32m     11\u001b[0m \u001b[0mfig\u001b[0m\u001b[0;34m,\u001b[0m \u001b[0max1\u001b[0m \u001b[0;34m=\u001b[0m \u001b[0mplt\u001b[0m\u001b[0;34m.\u001b[0m\u001b[0msubplots\u001b[0m\u001b[0;34m(\u001b[0m\u001b[0mfigsize\u001b[0m\u001b[0;34m=\u001b[0m\u001b[0;34m(\u001b[0m\u001b[0;36m6\u001b[0m\u001b[0;34m,\u001b[0m \u001b[0;36m4\u001b[0m\u001b[0;34m)\u001b[0m\u001b[0;34m)\u001b[0m\u001b[0;34m\u001b[0m\u001b[0;34m\u001b[0m\u001b[0m\n\u001b[0;32m---> 12\u001b[0;31m ax1.violinplot(f_score,showmeans=True, showmedians=False,\n\u001b[0m\u001b[1;32m     13\u001b[0m         showextrema=False)\n\u001b[1;32m     14\u001b[0m \u001b[0mxlabels\u001b[0m \u001b[0;34m=\u001b[0m \u001b[0msource_separation\u001b[0m\u001b[0;34m\u001b[0m\u001b[0;34m\u001b[0m\u001b[0m\n",
      "\u001b[0;32m~/.local/lib/python3.10/site-packages/matplotlib/__init__.py\u001b[0m in \u001b[0;36minner\u001b[0;34m(ax, data, *args, **kwargs)\u001b[0m\n\u001b[1;32m   1421\u001b[0m     \u001b[0;32mdef\u001b[0m \u001b[0minner\u001b[0m\u001b[0;34m(\u001b[0m\u001b[0max\u001b[0m\u001b[0;34m,\u001b[0m \u001b[0;34m*\u001b[0m\u001b[0margs\u001b[0m\u001b[0;34m,\u001b[0m \u001b[0mdata\u001b[0m\u001b[0;34m=\u001b[0m\u001b[0;32mNone\u001b[0m\u001b[0;34m,\u001b[0m \u001b[0;34m**\u001b[0m\u001b[0mkwargs\u001b[0m\u001b[0;34m)\u001b[0m\u001b[0;34m:\u001b[0m\u001b[0;34m\u001b[0m\u001b[0;34m\u001b[0m\u001b[0m\n\u001b[1;32m   1422\u001b[0m         \u001b[0;32mif\u001b[0m \u001b[0mdata\u001b[0m \u001b[0;32mis\u001b[0m \u001b[0;32mNone\u001b[0m\u001b[0;34m:\u001b[0m\u001b[0;34m\u001b[0m\u001b[0;34m\u001b[0m\u001b[0m\n\u001b[0;32m-> 1423\u001b[0;31m             \u001b[0;32mreturn\u001b[0m \u001b[0mfunc\u001b[0m\u001b[0;34m(\u001b[0m\u001b[0max\u001b[0m\u001b[0;34m,\u001b[0m \u001b[0;34m*\u001b[0m\u001b[0mmap\u001b[0m\u001b[0;34m(\u001b[0m\u001b[0msanitize_sequence\u001b[0m\u001b[0;34m,\u001b[0m \u001b[0margs\u001b[0m\u001b[0;34m)\u001b[0m\u001b[0;34m,\u001b[0m \u001b[0;34m**\u001b[0m\u001b[0mkwargs\u001b[0m\u001b[0;34m)\u001b[0m\u001b[0;34m\u001b[0m\u001b[0;34m\u001b[0m\u001b[0m\n\u001b[0m\u001b[1;32m   1424\u001b[0m \u001b[0;34m\u001b[0m\u001b[0m\n\u001b[1;32m   1425\u001b[0m         \u001b[0mbound\u001b[0m \u001b[0;34m=\u001b[0m \u001b[0mnew_sig\u001b[0m\u001b[0;34m.\u001b[0m\u001b[0mbind\u001b[0m\u001b[0;34m(\u001b[0m\u001b[0max\u001b[0m\u001b[0;34m,\u001b[0m \u001b[0;34m*\u001b[0m\u001b[0margs\u001b[0m\u001b[0;34m,\u001b[0m \u001b[0;34m**\u001b[0m\u001b[0mkwargs\u001b[0m\u001b[0;34m)\u001b[0m\u001b[0;34m\u001b[0m\u001b[0;34m\u001b[0m\u001b[0m\n",
      "\u001b[0;32m~/.local/lib/python3.10/site-packages/matplotlib/axes/_axes.py\u001b[0m in \u001b[0;36mviolinplot\u001b[0;34m(self, dataset, positions, vert, widths, showmeans, showextrema, showmedians, quantiles, points, bw_method)\u001b[0m\n\u001b[1;32m   8035\u001b[0m             \u001b[0;32mreturn\u001b[0m \u001b[0mkde\u001b[0m\u001b[0;34m.\u001b[0m\u001b[0mevaluate\u001b[0m\u001b[0;34m(\u001b[0m\u001b[0mcoords\u001b[0m\u001b[0;34m)\u001b[0m\u001b[0;34m\u001b[0m\u001b[0;34m\u001b[0m\u001b[0m\n\u001b[1;32m   8036\u001b[0m \u001b[0;34m\u001b[0m\u001b[0m\n\u001b[0;32m-> 8037\u001b[0;31m         vpstats = cbook.violin_stats(dataset, _kde_method, points=points,\n\u001b[0m\u001b[1;32m   8038\u001b[0m                                      quantiles=quantiles)\n\u001b[1;32m   8039\u001b[0m         return self.violin(vpstats, positions=positions, vert=vert,\n",
      "\u001b[0;32m~/.local/lib/python3.10/site-packages/matplotlib/cbook/__init__.py\u001b[0m in \u001b[0;36mviolin_stats\u001b[0;34m(X, method, points, quantiles)\u001b[0m\n\u001b[1;32m   1501\u001b[0m \u001b[0;34m\u001b[0m\u001b[0m\n\u001b[1;32m   1502\u001b[0m     \u001b[0;31m# Want X to be a list of data sequences\u001b[0m\u001b[0;34m\u001b[0m\u001b[0;34m\u001b[0m\u001b[0m\n\u001b[0;32m-> 1503\u001b[0;31m     \u001b[0mX\u001b[0m \u001b[0;34m=\u001b[0m \u001b[0m_reshape_2D\u001b[0m\u001b[0;34m(\u001b[0m\u001b[0mX\u001b[0m\u001b[0;34m,\u001b[0m \u001b[0;34m\"X\"\u001b[0m\u001b[0;34m)\u001b[0m\u001b[0;34m\u001b[0m\u001b[0;34m\u001b[0m\u001b[0m\n\u001b[0m\u001b[1;32m   1504\u001b[0m \u001b[0;34m\u001b[0m\u001b[0m\n\u001b[1;32m   1505\u001b[0m     \u001b[0;31m# Want quantiles to be as the same shape as data sequences\u001b[0m\u001b[0;34m\u001b[0m\u001b[0;34m\u001b[0m\u001b[0m\n",
      "\u001b[0;32m~/.local/lib/python3.10/site-packages/matplotlib/cbook/__init__.py\u001b[0m in \u001b[0;36m_reshape_2D\u001b[0;34m(X, name)\u001b[0m\n\u001b[1;32m   1434\u001b[0m         \u001b[0mnd\u001b[0m \u001b[0;34m=\u001b[0m \u001b[0mnp\u001b[0m\u001b[0;34m.\u001b[0m\u001b[0mndim\u001b[0m\u001b[0;34m(\u001b[0m\u001b[0mxi\u001b[0m\u001b[0;34m)\u001b[0m\u001b[0;34m\u001b[0m\u001b[0;34m\u001b[0m\u001b[0m\n\u001b[1;32m   1435\u001b[0m         \u001b[0;32mif\u001b[0m \u001b[0mnd\u001b[0m \u001b[0;34m>\u001b[0m \u001b[0;36m1\u001b[0m\u001b[0;34m:\u001b[0m\u001b[0;34m\u001b[0m\u001b[0;34m\u001b[0m\u001b[0m\n\u001b[0;32m-> 1436\u001b[0;31m             \u001b[0;32mraise\u001b[0m \u001b[0mValueError\u001b[0m\u001b[0;34m(\u001b[0m\u001b[0;34mf'{name} must have 2 or fewer dimensions'\u001b[0m\u001b[0;34m)\u001b[0m\u001b[0;34m\u001b[0m\u001b[0;34m\u001b[0m\u001b[0m\n\u001b[0m\u001b[1;32m   1437\u001b[0m         \u001b[0mresult\u001b[0m\u001b[0;34m.\u001b[0m\u001b[0mappend\u001b[0m\u001b[0;34m(\u001b[0m\u001b[0mxi\u001b[0m\u001b[0;34m.\u001b[0m\u001b[0mreshape\u001b[0m\u001b[0;34m(\u001b[0m\u001b[0;34m-\u001b[0m\u001b[0;36m1\u001b[0m\u001b[0;34m)\u001b[0m\u001b[0;34m)\u001b[0m\u001b[0;34m\u001b[0m\u001b[0;34m\u001b[0m\u001b[0m\n\u001b[1;32m   1438\u001b[0m \u001b[0;34m\u001b[0m\u001b[0m\n",
      "\u001b[0;31mValueError\u001b[0m: X must have 2 or fewer dimensions"
     ]
    },
    {
     "data": {
      "image/png": "[encoded data removed]",
      "text/plain": [
       "<Figure size 600x400 with 1 Axes>"
      ]
     },
     "metadata": {},
     "output_type": "display_data"
    }
   ],
   "source": [
    "\n",
    "# violin plots\n",
    "f_score = []\n",
    "for source_sep in source_separation:\n",
    "    temp = []\n",
    "    for name in datasets:\n",
    "        for track_id in results[name][source_sep]:  \n",
    "            temp.append(100 * results[name][source_sep][track_id])\n",
    "    f_score.append(temp)\n",
    "\n",
    "\n",
    "fig, ax1 = plt.subplots(figsize=(6, 4))\n",
    "ax1.violinplot(f_score,showmeans=True, showmedians=False,\n",
    "        showextrema=False)\n",
    "xlabels = source_separation\n",
    "ax1.set_yticks(np.arange(40,110,10))\n",
    "ax1.set_ylim(40,100)\n",
    "ax1.set_ylabel(\"f-score in %\")\n",
    "ax1.set_xticks(np.arange(1, len(xlabels) + 1), labels=xlabels)\n",
    "ax1.set_xlim(0.25, len(xlabels) + 0.75);\n",
    "ax1.grid(\"on\")\n",
    "\n",
    "## paired T-Test ##\n",
    "source_sep = \"drums\"\n",
    "delta = []\n",
    "for dataset_name in datasets:\n",
    "    for track_id in results[dataset_name][\"none\"]:\n",
    "        delta.append(results[dataset_name][source_sep][track_id] - results[dataset_name][\"none\"][track_id] )\n",
    "N = len(delta)\n",
    "delta = np.array(delta)\n",
    "delta_mu = np.mean(delta)\n",
    "delta_std = np.std(delta,ddof=1) / np.sqrt(N)\n",
    "t_obs = delta_mu/(delta_std)\n",
    "print(f\"t_obs={t_obs}\")"
   ]
  },
  {
   "cell_type": "markdown",
   "metadata": {},
   "source": [
    "Compare RP prefilter with median prefilter result"
   ]
  },
  {
   "cell_type": "code",
   "execution_count": null,
   "metadata": {},
   "outputs": [
    {
     "name": "stdout",
     "output_type": "stream",
     "text": [
      "median: mean=0.71 +/- 0.15\n",
      "rp: mean=0.73 +/- 0.16\n",
      "t_obs=1.8366506159475064\n"
     ]
    }
   ],
   "source": [
    "median_filepath = \"../results/majmin_median_11/none.hdf5\"\n",
    "rp_filepath = \"../results/majmin_rp_25_50/none.hdf5\"\n",
    "f_scores_rp = []\n",
    "f_scores_median = []\n",
    "for dset_name in [\"beatles\",\"rwc_pop\",\"rw\",\"queen\"]:\n",
    "    f_scores_median.extend(utils.load_f_scores(median_filepath,dset_name))\n",
    "    f_scores_rp.extend(utils.load_f_scores(rp_filepath,dset_name))\n",
    "    \n",
    "\n",
    "print(f\"median: mean={np.mean(f_scores_median):.2f} +/- {np.std(f_scores_median):.2f}\")\n",
    "print(f\"rp: mean={np.mean(f_scores_rp):.2f} +/- {np.std(f_scores_rp):.2f}\")\n",
    "\n",
    "N = len(f_scores_median)\n",
    "median_std = np.std(f_scores_median,ddof=1)\n",
    "rp_std = np.std(f_scores_rp,ddof=1)\n",
    "delta_mu = np.mean(f_scores_rp)-np.mean(f_scores_median)\n",
    "delta_std = np.sqrt(median_std**2 + rp_std**2)\n",
    "t_obs =delta_mu/(delta_std/np.sqrt(N))\n",
    "print(f\"t_obs={t_obs}\")"
   ]
  },
  {
   "cell_type": "code",
   "execution_count": null,
   "metadata": {},
   "outputs": [
    {
     "name": "stdout",
     "output_type": "stream",
     "text": [
      "beatles\n",
      "median: mean=0.71 +/- 0.17\n",
      "rwc_pop\n",
      "median: mean=0.72 +/- 0.13\n",
      "rw\n",
      "median: mean=0.74 +/- 0.14\n",
      "queen\n",
      "median: mean=0.64 +/- 0.18\n"
     ]
    }
   ],
   "source": [
    "\n",
    "datasets = [\"beatles\",\"rwc_pop\",\"rw\",\"queen\"]\n",
    "\n",
    "for dset_name in datasets:\n",
    "    f_scores_median = utils.load_f_scores(f\"../results/majmin_median_11/none.hdf5\",dset_name)\n",
    "    print(dset_name)\n",
    "    print(f\"median: mean={np.mean(f_scores_median):.2f} +/- {np.std(f_scores_median):.2f}\")\n"
   ]
  },
  {
   "cell_type": "code",
   "execution_count": null,
   "metadata": {},
   "outputs": [
    {
     "name": "stdout",
     "output_type": "stream",
     "text": [
      "majmin=1.0 , seg=1.0\n"
     ]
    }
   ],
   "source": [
    "import mir_eval\n",
    "import utils\n",
    "# example of evaluation schemes\n",
    "x = mir_eval.chord.quality_to_bitmap(\"min7\")\n",
    "est_intervals = np.array([[0,1],[1,3]])\n",
    "est_labels = [\"A:min\",\"A:min7\"]\n",
    "ref_intervals = np.array([[0,1],[1,3]])\n",
    "ref_labels = [\"A:sus2\",\"A:min7\"]\n",
    "score,seg = utils.evaluateTranscription(est_intervals,est_labels,ref_intervals,ref_labels,scheme=\"sevenths\")\n",
    "print(f\"majmin={score} , seg={seg}\")"
   ]
  }
 ],
 "metadata": {
  "kernelspec": {
   "display_name": "acr",
   "language": "python",
   "name": "python3"
  },
  "language_info": {
   "codemirror_mode": {
    "name": "ipython",
    "version": 3
   },
   "file_extension": ".py",
   "mimetype": "text/x-python",
   "name": "python",
   "nbconvert_exporter": "python",
   "pygments_lexer": "ipython3",
   "version": "3.10.13"
  }
 },
 "nbformat": 4,
 "nbformat_minor": 2
}
