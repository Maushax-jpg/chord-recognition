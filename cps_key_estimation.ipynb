{
 "cells": [
  {
   "cell_type": "markdown",
   "metadata": {},
   "source": [
    "Try to estimate the key of a song using the pitch space model\n"
   ]
  },
  {
   "cell_type": "code",
   "execution_count": 1,
   "metadata": {},
   "outputs": [],
   "source": [
    "import circularPitchSpace as cps\n",
    "import numpy as np\n",
    "import matplotlib.pyplot as plt\n",
    "import matplotlib\n",
    "import librosa.display\n",
    "import librosa\n",
    "import madmom\n",
    "import IPython\n"
   ]
  },
  {
   "cell_type": "code",
   "execution_count": 1,
   "metadata": {},
   "outputs": [
    {
     "ename": "NameError",
     "evalue": "name 'madmom' is not defined",
     "output_type": "error",
     "traceback": [
      "\u001b[0;31m---------------------------------------------------------------------------\u001b[0m",
      "\u001b[0;31mNameError\u001b[0m                                 Traceback (most recent call last)",
      "Cell \u001b[0;32mIn[1], line 7\u001b[0m\n\u001b[1;32m      5\u001b[0m path \u001b[39m=\u001b[39m path[\u001b[39m1\u001b[39m]\n\u001b[1;32m      6\u001b[0m time \u001b[39m=\u001b[39m \u001b[39m30\u001b[39m\n\u001b[0;32m----> 7\u001b[0m dcp \u001b[39m=\u001b[39m  madmom\u001b[39m.\u001b[39maudio\u001b[39m.\u001b[39mchroma\u001b[39m.\u001b[39mDeepChromaProcessor()\n\u001b[1;32m      8\u001b[0m chroma \u001b[39m=\u001b[39m dcp(path)\n\u001b[1;32m      9\u001b[0m chroma \u001b[39m=\u001b[39m chroma[:time\u001b[39m*\u001b[39m\u001b[39m10\u001b[39m,:]\n",
      "\u001b[0;31mNameError\u001b[0m: name 'madmom' is not defined"
     ]
    }
   ],
   "source": [
    "path = [\"/home/max/ET-TI/Masterarbeit/datasets/guitarset/audio_mono-pickup_mix/00_SS3-98-C_comp_mix.wav\",\n",
    "        \"/home/max/ET-TI/Masterarbeit/datasets/beatles/audio/12_-_Let_It_Be/03_-_Across_the_Universe.mp3\",\n",
    "        \"/home/max/ET-TI/Masterarbeit/prototyping/data/moonlight_sonata_minor.mp3\",\n",
    "]\n",
    "path = path[1]\n",
    "time = 30\n",
    "dcp =  madmom.audio.chroma.DeepChromaProcessor()\n",
    "chroma = dcp(path)\n",
    "chroma = chroma[:time*10,:]\n",
    "fig,ax = plt.subplots(1,3,figsize=(9,3))\n",
    "cps.plotCircleOfFifths(ax[0])\n",
    "r_F,r_FR,r_TR,r_DR = cps.transformChroma(chroma)\n",
    "r_max = np.max(np.abs(r_F))\n",
    "r_F_norm = (r_F/r_max)*1j  # scale and rotate by 90° for plot!\n",
    "for col in range(r_F_norm.shape[0]):\n",
    "    ax[0].plot(r_F_norm[col].real,r_F_norm[col].imag,'ob',markersize=.3)\n",
    "\n",
    "pitch_class_energy = cps.getPitchClassEnergyProfile(chroma,0.8,0.8)\n",
    "# find chroma bin with maximum pitch class energy\n",
    "key_maxima = np.argmax(pitch_class_energy,axis=1)\n",
    "# count number of maximas for each pitch_class index\n",
    "key_probabilities = np.bincount(key_maxima,minlength=12) / chroma.shape[0]\n",
    "key_est = cps.pitch_classes[np.argmax(key_probabilities)]\n",
    "print(f\"Estimated Pitch Class: {key_est.name}\")\n",
    "# Major or Minor? \n",
    "# investigate with angle of FR -> left Major, right Minor\n",
    "r_FR_est = r_FR[:,key_est.pitch_class_index]\n",
    "cps.plotCircleOfFifthsRelated(ax[1],key_est.pitch_class_index)\n",
    "r_max = np.max(np.abs(r_FR_est))\n",
    "for col in range(r_FR_est.shape[0]):\n",
    "    z = r_FR_est[col]/r_max*1j\n",
    "    ax[1].plot(z.real,z.imag,'ob',markersize=.3)\n",
    "cps.fillCircle(ax[1],np.pi/2,3*np.pi/2,'green')\n",
    "cps.fillCircle(ax[1],np.pi/2,-np.pi/2,'red')\n",
    "\n",
    "r_TR_est = r_TR[:,key_est.pitch_class_index]\n",
    "cps.plotCircleOfThirdsRelated(ax[2],key_est.pitch_class_index)\n",
    "r_max = np.max(np.abs(r_TR_est))\n",
    "for col in range(r_TR_est.shape[0]):\n",
    "    z = r_TR_est[col]/r_max*1j\n",
    "    ax[2].plot(z.real,z.imag,'ob',markersize=.3)\n",
    " \n",
    "angle = np.angle(r_FR[:,key_est.pitch_class_index])\n",
    "print(f\"major chords: #{np.count_nonzero(angle>0)}\")\n",
    "print(f\"minor: #{np.count_nonzero(angle<=0)}\")\n",
    "if np.count_nonzero(angle>0) >= np.count_nonzero(angle<=0):\n",
    "    quality = 'maj'\n",
    "    print(f\"Estimated Key: {key_est.name} major\")\n",
    "else:\n",
    "    quality = \"min\"\n",
    "    print(f\"Estimated Key: {key_est.name} minor\")\n",
    "\n"
   ]
  },
  {
   "cell_type": "markdown",
   "metadata": {},
   "source": [
    "Tonsetenergie </br>\n",
    "$E(k) = \\frac{\\sum_{n_c=-6}^5(\\epsilon_{n_c}*z)^2}{\\sum_{n_c=-6}^5(\\epsilon_{n_c})^2}$ </br>\n",
    "z = 1| nc ist die Tonigkeit des Tonsets k </br>\n",
    "z = 0| nc ist nicht Tonigkeit des Tonsets k  </br>\n",
    "Die Tonsetenergie wird mit einem Prozentsatz der Gesamtenergie verglichen, und nur Tonsets mit hoher Energie werden für die weitere Analyse betrachtet. Wird beispielsweise ein C-Dur akkord gespielt, so ist die Tonsetenergie in den Tonarten C,F und G größer als in allen anderen Tonsets. </br>\n",
    "Winkelgewicht: Der C-Dur akkord ist leitereigen in mehreren Tonarten, als Tonika in C,Subdominante in G und Dominante in F. Mit einer Winkelgewichtung bei der Analyse kann diese Mehrdeutigkeit umgangen werden, da die Akkordfunktion anhand des Winkel des Summenvektors im Tonartbezogenen Terzkreis TR bestimmt werden</br>\n",
    "\n"
   ]
  }
 ],
 "metadata": {
  "kernelspec": {
   "display_name": "Python 3 (ipykernel)",
   "language": "python",
   "name": "python3"
  },
  "language_info": {
   "codemirror_mode": {
    "name": "ipython",
    "version": 3
   },
   "file_extension": ".py",
   "mimetype": "text/x-python",
   "name": "python",
   "nbconvert_exporter": "python",
   "pygments_lexer": "ipython3",
   "version": "3.10.6"
  }
 },
 "nbformat": 4,
 "nbformat_minor": 2
}
