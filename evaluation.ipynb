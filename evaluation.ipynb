{
 "cells": [
  {
   "cell_type": "markdown",
   "metadata": {},
   "source": [
    "## EVALUATION NOTEBOOK - DEEP CHROMA"
   ]
  },
  {
   "cell_type": "markdown",
   "metadata": {},
   "source": [
    "### Transsprition Results"
   ]
  },
  {
   "cell_type": "code",
   "execution_count": null,
   "metadata": {},
   "outputs": [],
   "source": [
    "import matplotlib.pyplot as plt\n",
    "from visualization import visualizationApp\n",
    "%matplotlib inline\n",
    "visualizationApp(\"/home/max/ET-TI/Masterarbeit/chord-recognition/results\");\n",
    "plt.ioff(); # interactive modoff"
   ]
  },
  {
   "cell_type": "markdown",
   "metadata": {},
   "source": [
    "### Statistical Evaluation"
   ]
  },
  {
   "cell_type": "code",
   "execution_count": null,
   "metadata": {},
   "outputs": [],
   "source": [
    "from visualization import load_results\n",
    "import matplotlib.pyplot as plt\n",
    "from dataloader import OUTLIERS\n",
    "from scipy import stats\n",
    "import numpy as np\n",
    "\n",
    "def plotDeltas(delta):\n",
    "        fig, ax1 = plt.subplots(figsize=(5.5, 2.5))\n",
    "        parts = ax1.violinplot(delta,showmeans=False, showmedians=True,\n",
    "                showextrema=False)\n",
    "        bplot = ax1.boxplot(delta,\n",
    "                        showfliers=True,medianprops=dict(linestyle=None,linewidth=0),\n",
    "                        flierprops=dict(markerfacecolor='k', marker='o',markersize=1),\n",
    "                        widths=0.1)\n",
    "        parts[\"cmedians\"].set_color(\"red\")\n",
    "        for x,color in zip(parts[\"bodies\"],['r','g','b','purple']):\n",
    "                x.set_color(color)\n",
    "        xlabels = [\"Combined\",\"Beatles\",\"RWC\",\"RW\",\"Queen\"]\n",
    "        ax1.set_yticks(np.arange(-20,25,5))\n",
    "        ax1.set_ylim(-25,25)\n",
    "        ax1.set_ylabel(\"Delta F-score in %\")\n",
    "        ax1.set_xticks(np.arange(1, len(xlabels) + 1), labels=xlabels)\n",
    "        ax1.set_xlim(0.5, len(xlabels) + 0.5);\n",
    "        ax1.grid(\"on\")\n",
    "        fig.tight_layout(pad=0.1)\n",
    "        return fig\n",
    "\n",
    "separation = \"both\"\n",
    "data, datasets = load_results(f\"/home/max/ET-TI/Masterarbeit/chord-recognition/results/source_separation_none\")\n",
    "data_separated, datasets = load_results(f\"/home/max/ET-TI/Masterarbeit/chord-recognition/results/source_separation_{separation}\")\n",
    "deltas_majmin = []\n",
    "deltas_sevenths = []\n",
    "\n",
    "none_majmin_f =  [x.majmin_f for x in data if x.name not in OUTLIERS]\n",
    "none_sevenths_f =  [x.sevenths_f for x in data if x.name not in OUTLIERS]\n",
    "majmin_f =  [x.majmin_f for x in data_separated if x.name not in OUTLIERS]\n",
    "sevenths_f =  [x.sevenths_f for x in data_separated if x.name not in OUTLIERS]\n",
    "deltas_majmin.append([100*(x-y) for x,y in zip(majmin_f,none_majmin_f)])\n",
    "deltas_sevenths.append([100*(x-y) for x,y in zip(sevenths_f, none_sevenths_f)])\n",
    "\n",
    "for dset in datasets:\n",
    "        none_majmin_f =  [x.majmin_f for x in data if x.name not in OUTLIERS and x.dataset == dset]\n",
    "        none_sevenths_f =  [x.sevenths_f for x in data if x.name not in OUTLIERS and x.dataset == dset]\n",
    "        majmin_f =  [x.majmin_f for x in data_separated if x.name not in OUTLIERS and x.dataset == dset]\n",
    "        sevenths_f =  [x.sevenths_f for x in data_separated if x.name not in OUTLIERS and x.dataset == dset]\n",
    "        deltas_majmin.append([100*(x-y) for x,y in zip(majmin_f,none_majmin_f)])\n",
    "        deltas_sevenths.append([100*(x-y) for x,y in zip(sevenths_f, none_sevenths_f)])\n",
    "\n",
    "fig = plotDeltas(deltas_majmin)\n",
    "plt.savefig(f\"/home/max/ET-TI/Masterarbeit/latex/figures/source_separation_{separation}_majmin.png\")\n",
    "fig = plotDeltas(deltas_sevenths)\n",
    "plt.savefig(f\"/home/max/ET-TI/Masterarbeit/latex/figures/source_separation_{separation}_sevenths.png\")\n",
    "print(f\"Majmin: separation {separation}\")\n",
    "res_beatles = stats.wilcoxon(deltas_majmin[1],method='approx')\n",
    "res_rwc = stats.wilcoxon(deltas_majmin[2],method='approx')\n",
    "res_rw = stats.wilcoxon(deltas_majmin[3],method='approx')\n",
    "res_queen = stats.wilcoxon(deltas_majmin[4],method='approx')\n",
    "print(\"Wilcoxon test for paired samples\")\n",
    "print(f\"beatles: N={len(deltas_majmin[1])} z={res_beatles.zstatistic:0.1f}, p={res_beatles.pvalue:0.3f}, r={np.abs(res_beatles.zstatistic) / np.sqrt(len(deltas_majmin[1])):0.2f}\")\n",
    "print(f\"rwc: N={len(deltas_majmin[2])}, z={res_rwc.zstatistic:0.1f}, p={res_rwc.pvalue:0.3f}, r={np.abs(res_rwc.zstatistic) / np.sqrt(len(deltas_majmin[2])):0.2f}\")\n",
    "print(f\"rw: N={len(deltas_majmin[3])}, z={res_rw.zstatistic:0.1f}, p={res_rw.pvalue:0.3f}, r={np.abs(res_rw.zstatistic) / np.sqrt(len(deltas_majmin[3])):0.2f}\")\n",
    "print(f\"queen: N={len(deltas_majmin[4])}, z={res_queen.zstatistic:0.1f}, p={res_queen.pvalue:0.3f}, r={np.abs(res_queen.zstatistic) / np.sqrt(len(deltas_majmin[4])):0.2f}\")\n",
    "\n",
    "print(f\"Sevenths: separation {separation}\")\n",
    "res_beatles = stats.wilcoxon(deltas_sevenths[1],method='approx')\n",
    "res_rwc = stats.wilcoxon(deltas_sevenths[2],method='approx')\n",
    "res_rw = stats.wilcoxon(deltas_sevenths[3],method='approx')\n",
    "res_queen = stats.wilcoxon(deltas_sevenths[4],method='approx')\n",
    "print(\"Wilcoxon test for paired samples\")\n",
    "print(f\"beatles: N={len(deltas_sevenths[1])} z={res_beatles.zstatistic:0.1f}, p={res_beatles.pvalue:0.3f}, r={np.abs(res_beatles.zstatistic) / np.sqrt(len(deltas_sevenths[1])):0.2f}\")\n",
    "print(f\"rwc: N={len(deltas_sevenths[2])}, z={res_rwc.zstatistic:0.1f}, p={res_rwc.pvalue:0.3f}, r={np.abs(res_rwc.zstatistic) / np.sqrt(len(deltas_sevenths[2])):0.2f}\")\n",
    "print(f\"rw: N={len(deltas_sevenths[3])}, z={res_rw.zstatistic:0.1f}, p={res_rw.pvalue:0.3f}, r={np.abs(res_rw.zstatistic) / np.sqrt(len(deltas_sevenths[3])):0.2f}\")\n",
    "print(f\"queen: N={len(deltas_sevenths[4])}, z={res_queen.zstatistic:0.1f}, p={res_queen.pvalue:0.3f}, r={np.abs(res_queen.zstatistic) / np.sqrt(len(deltas_sevenths[4])):0.2f}\")\n"
   ]
  },
  {
   "cell_type": "markdown",
   "metadata": {},
   "source": [
    "### Table of Results"
   ]
  },
  {
   "cell_type": "code",
   "execution_count": null,
   "metadata": {},
   "outputs": [],
   "source": [
    "data, datasets = load_results(f\"/home/max/ET-TI/Masterarbeit/results/median_none\")\n",
    "\n",
    "def computeStatistics(x):\n",
    "    return np.median(x),np.subtract(*np.percentile(x, [75, 25]))\n",
    "\n",
    "for name in [\"none\",\"vocals\",\"drums\",\"both\"]:\n",
    "    data, datasets = load_results(f\"/home/max/ET-TI/Masterarbeit/results/median_{name}\")\n",
    "    print(f\"\\nSeparation: {name}\")\n",
    "    none_majmin_f =  [x.majmin_f for x in data if x.name not in OUTLIERS]\n",
    "    none_sevenths_f =  [x.sevenths_f for x in data if x.name not in OUTLIERS]\n",
    "    majmin_median,majmin_iqr = computeStatistics(none_majmin_f)\n",
    "    sevenths_median,sevenths_iqr = computeStatistics(none_sevenths_f)\n",
    "    print(\"combined\")\n",
    "    print(f\"majmin: {100*majmin_median:0.1f} +- {100*majmin_iqr:0.1f}\")\n",
    "    print(f\"sevenths: {100*sevenths_median:0.1f} +- {100*sevenths_iqr:0.1f}\")\n",
    "    for dset in datasets:   \n",
    "        none_majmin_f =  [x.majmin_f for x in data if x.name not in OUTLIERS and x.dataset == dset]\n",
    "        none_sevenths_f =  [x.sevenths_f for x in data if x.name not in OUTLIERS and x.dataset == dset]\n",
    "        majmin_median,majmin_iqr = computeStatistics(none_majmin_f)\n",
    "        sevenths_median,sevenths_iqr = computeStatistics(none_sevenths_f)\n",
    "        print(f\"{dset}\")\n",
    "        print(f\"majmin: {100*majmin_median:0.1f} +- {100*majmin_iqr:0.1f}\")\n",
    "        print(f\"sevenths: {100*sevenths_median:0.1f} +- {100*sevenths_iqr:0.1f}\")"
   ]
  }
 ],
 "metadata": {
  "kernelspec": {
   "display_name": "acr",
   "language": "python",
   "name": "python3"
  },
  "language_info": {
   "codemirror_mode": {
    "name": "ipython",
    "version": 3
   },
   "file_extension": ".py",
   "mimetype": "text/x-python",
   "name": "python",
   "nbconvert_exporter": "python",
   "pygments_lexer": "ipython3",
   "version": "3.10.13"
  }
 },
 "nbformat": 4,
 "nbformat_minor": 2
}
