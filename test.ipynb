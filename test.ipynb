{
 "cells": [
  {
   "cell_type": "code",
   "execution_count": 1,
   "metadata": {},
   "outputs": [
    {
     "name": "stdout",
     "output_type": "stream",
     "text": [
      "[0.43311553+0.31468256j 1.02547594+0.58972764j 1.63283418+0.52937182j ...\n",
      " 0.02144889-0.01488676j 0.02141164-0.0148784j  0.02139936-0.01488069j]\n"
     ]
    }
   ],
   "source": [
    "import pandas as pd\n",
    "import numpy as np\n",
    "import dataloader\n",
    "import circularPitchSpace as cps\n",
    "subset = 'majmin'\n",
    "path = \"/home/max/ET-TI/Masterarbeit/datasets/beatles/\"\n",
    "dataset = dataloader.BeatlesDataset(path,'madmom',False)\n",
    "\n",
    "t,chroma,ref_interval,ref_labels = dataset[103]\n",
    "rho_F,rho_FR,rho_TR,rho_DR = cps.transformChroma(chroma)\n",
    "print(rho_F)\n"
   ]
  },
  {
   "cell_type": "code",
   "execution_count": 17,
   "metadata": {},
   "outputs": [
    {
     "name": "stdout",
     "output_type": "stream",
     "text": [
      "[   0.51973923 -113.69155233]\n"
     ]
    }
   ],
   "source": [
    "def cartesian2polar(x,y,angle='deg'):\n",
    "    if angle == 'deg':\n",
    "        return np.sqrt(x**2+y**2),np.arctan2(y,x)*180/np.pi\n",
    "    else:\n",
    "        return np.sqrt(x**2+y**2),np.arctan2(y,x)\n",
    "\n",
    "x = list(map(lambda x: cartesian2polar(x.real,x.imag), rho_F))\n",
    "y = list(map(lambda f: [cartesian2polar(y.real,y.imag) for y in f], rho_FR))\n",
    "y = np.array(y)\n",
    "print(y[0,0])\n"
   ]
  }
 ],
 "metadata": {
  "kernelspec": {
   "display_name": "Python 3",
   "language": "python",
   "name": "python3"
  },
  "language_info": {
   "codemirror_mode": {
    "name": "ipython",
    "version": 3
   },
   "file_extension": ".py",
   "mimetype": "text/x-python",
   "name": "python",
   "nbconvert_exporter": "python",
   "pygments_lexer": "ipython3",
   "version": "3.10.6"
  },
  "orig_nbformat": 4
 },
 "nbformat": 4,
 "nbformat_minor": 2
}
