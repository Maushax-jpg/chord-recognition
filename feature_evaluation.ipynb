{
 "cells": [
  {
   "cell_type": "code",
   "execution_count": 2,
   "metadata": {},
   "outputs": [],
   "source": [
    "import librosa\n",
    "import librosa.display\n",
    "import numpy as np\n",
    "import matplotlib.pyplot as plt\n",
    "from utils import buffer\n",
    "from scipy.fftpack import dct,idct"
   ]
  },
  {
   "cell_type": "markdown",
   "metadata": {},
   "source": [
    "CRP Feature method\n",
    "create halftone filter for midi notes"
   ]
  },
  {
   "cell_type": "code",
   "execution_count": 49,
   "metadata": {},
   "outputs": [
    {
     "data": {
      "text/plain": [
       "<matplotlib.image.AxesImage at 0x7f937dc56f50>"
      ]
     },
     "execution_count": 49,
     "metadata": {},
     "output_type": "execute_result"
    },
    {
     "data": {
      "image/png": "[encoded data removed]",
      "text/plain": [
       "<Figure size 640x480 with 1 Axes>"
      ]
     },
     "metadata": {},
     "output_type": "display_data"
    }
   ],
   "source": [
    "# chroma feature\n",
    "nCRP = 55 # bzw. vgl. mit  35 :);   % CRP(nCRP)\n",
    "fs = 44100\n",
    "N = int(4*8192)\n",
    "overlap = N // 2\n",
    "midi_note_start = 12\n",
    "midi_note_stop = 120\n",
    "\n",
    "k = np.arange(0,N//2 + 1)\n",
    "fk = k*(fs/N)  # DFT-bin frequencies\n",
    "midi_note_number_frequencies = 12* np.log2((fk/440)+np.finfo(float).eps)+69\n",
    "Hp = np.zeros((fk.shape[0],midi_note_stop - midi_note_start),dtype=float)\n",
    "for i, midi_note_number in enumerate(range(12,120)):\n",
    "    d = np.abs(midi_note_number - midi_note_number_frequencies)\n",
    "    Hp[:,i] = 0.5 * np.tanh(np.pi * (1 - 2*d)) + 0.5\n",
    "\n",
    "if False:\n",
    "    fig,ax = plt.subplots()\n",
    "    ax.plot(fk,Hp[:,-8:-3])  # plot some of the halftone filters\n",
    "    plt.title(\"Halftone Filters\")\n",
    "    ax.set_xlabel(\"Frequency in Hz\")\n",
    "    ax.set_xlim(5000,7000)\n",
    "\n",
    "y,_ = librosa.load(\"/home/max/ET-TI/Masterarbeit/mirdata/beatles/audio/12_-_Let_It_Be/06_-_Let_It_Be.wav\",sr = fs)\n",
    "#y,_ = librosa.load(\"/home/max/ET-TI/Masterarbeit/mirdata/beatles/audio/12_-_Let_It_Be/03_-_Across_the_Universe.wav\",sr = fs,duration = 10)\n",
    "\n",
    "window = np.hanning(N)\n",
    "y_blocks = buffer(y,N,overlap,0,window) \n",
    "weight = np.sum(window)\n",
    "y_spectrum = (2/weight) * np.abs(np.fft.rfft(y_blocks,axis=0))\n",
    "pitch_gram = np.matmul(Hp.T, y_spectrum) ** 2   # np.power(X,2) \n",
    "dt = np.linspace(0,y.shape[0]/fs,y_blocks.shape[1],10)\n",
    "df = np.array(440*(2 ** ((np.linspace(midi_note_start,midi_note_stop,10)-69)/12)),dtype=int)\n",
    "y_ticks = np.linspace(0,midi_note_stop-midi_note_start,10)\n",
    "\n",
    "\n",
    "\n",
    "v = np.finfo(float).eps * np.ones((120,pitch_gram.shape[1]))\n",
    "v[12:,:] = pitch_gram\n",
    "\n",
    "vLog = np.log(100*v + 1);    # cf. CLP-Measure  .... diese Größe einfach zu Chroma zusammenfalten => quasi Lautheitsbewertet ...\n",
    "vLogDCT = dct(vLog,norm='ortho',axis=0);  \n",
    "vLogDCT[:nCRP,:] = 0  # liftering hochpass\n",
    "vLogDCT[nCRP,:] = 0.5*vLogDCT[nCRP,:]\n",
    "\n",
    "vLog_lift=idct(vLogDCT,norm='ortho',axis=0)\n",
    "vLift = 1/100*(np.exp(vLog_lift)-1); \n",
    "crp = vLift.reshape(10,12,-1)\n",
    "crp = np.maximum(0,np.sum(crp,axis=0))\n",
    "crp = crp / np.sum(crp,axis=0)\n",
    "\n",
    "fig,ax = plt.subplots()\n",
    "img = ax.imshow(crp,origin='lower')\n",
    "ax.set_xlim(0,30)\n",
    "plt.show()\n"
   ]
  },
  {
   "cell_type": "code",
   "execution_count": 4,
   "metadata": {},
   "outputs": [
    {
     "name": "stderr",
     "output_type": "stream",
     "text": [
      "UsageError: Cell magic `%%` not found.\n"
     ]
    }
   ],
   "source": [
    "\n"
   ]
  }
 ],
 "metadata": {
  "kernelspec": {
   "display_name": "Python 3",
   "language": "python",
   "name": "python3"
  },
  "language_info": {
   "codemirror_mode": {
    "name": "ipython",
    "version": 3
   },
   "file_extension": ".py",
   "mimetype": "text/x-python",
   "name": "python",
   "nbconvert_exporter": "python",
   "pygments_lexer": "ipython3",
   "version": "3.10.12"
  },
  "orig_nbformat": 4
 },
 "nbformat": 4,
 "nbformat_minor": 2
}
