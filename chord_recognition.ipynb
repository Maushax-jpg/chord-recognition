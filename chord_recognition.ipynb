{
 "cells": [
  {
   "cell_type": "code",
   "execution_count": 1,
   "metadata": {},
   "outputs": [],
   "source": [
    "import dataloader\n",
    "import HMM\n",
    "import matplotlib.pyplot as plt\n",
    "import utils\n",
    "from ipywidgets import interact, BoundedIntText\n",
    "from IPython.display import display\n",
    "import mir_eval\n",
    "\n",
    "model_path = \"/home/max/ET-TI/Masterarbeit/models/hmm_model.pkl\"   \n",
    "model = HMM.load_model(model_path)\n",
    "\n",
    "dataset_path = \"/home/max/ET-TI/Masterarbeit/datasets/beatles/\"\n",
    "dataset = dataloader.BeatlesDataset(dataset_path,'madmom',beat_align=False)\n",
    "dataset_aligned = dataloader.BeatlesDataset(dataset_path,'madmom',beat_align=True)\n"
   ]
  },
  {
   "attachments": {},
   "cell_type": "markdown",
   "metadata": {},
   "source": [
    "Load Chromadata and ground truth annotations "
   ]
  },
  {
   "cell_type": "code",
   "execution_count": 2,
   "metadata": {},
   "outputs": [
    {
     "name": "stdout",
     "output_type": "stream",
     "text": [
      "Song: beatles_12_Let_It_Be_06_Let_It_Be\n"
     ]
    }
   ],
   "source": [
    "index = 103\n",
    "ALIGNED = True\n",
    "print(f\"Song: {dataset_aligned.getTitle(index)}\")\n",
    "if ALIGNED:\n",
    "    t_chroma,chroma,ref_intervals,ref_labels = dataset_aligned[index]\n",
    "else:\n",
    "    t_chroma,chroma,ref_intervals,ref_labels = dataset[index]"
   ]
  },
  {
   "attachments": {},
   "cell_type": "markdown",
   "metadata": {},
   "source": [
    "Predict chords using a trained Hidden Markov model"
   ]
  },
  {
   "cell_type": "code",
   "execution_count": 3,
   "metadata": {},
   "outputs": [
    {
     "name": "stderr",
     "output_type": "stream",
     "text": [
      "/home/max/.local/lib/python3.10/site-packages/librosa/util/decorators.py:88: UserWarning: PySoundFile failed. Trying audioread instead.\n",
      "  return f(*args, **kwargs)\n"
     ]
    },
    {
     "data": {
      "application/vnd.jupyter.widget-view+json": {
       "model_id": "00e114cb798e4e2d9ad9b1ef24836d1f",
       "version_major": 2,
       "version_minor": 0
      },
      "text/plain": [
       "interactive(children=(BoundedIntText(value=0, description='xlim:', max=243), BoundedIntText(value=15, descript…"
      ]
     },
     "metadata": {},
     "output_type": "display_data"
    },
    {
     "data": {
      "text/plain": [
       "<function __main__.adjust_axes(x, y)>"
      ]
     },
     "execution_count": 3,
     "metadata": {},
     "output_type": "execute_result"
    }
   ],
   "source": [
    "est_intervals,est_labels = model.predict(t_chroma,chroma)\n",
    "\n",
    "# visualize results\n",
    "def adjust_axes(x,y):\n",
    "    for text in ax[0].texts:\n",
    "        text.remove()\n",
    "    interval=(x,y)\n",
    "    utils.plotAnnotations(ax[0],ref_intervals,ref_labels,interval)\n",
    "    utils.plotPredictionResult(ax[0],est_intervals,est_labels,interval)\n",
    "    for i in range(3):\n",
    "        ax[i].set_xlim(x,y)\n",
    "    display(fig)\n",
    "\n",
    "title = dataset_aligned.getTitle(index)\n",
    "audiopath,labelpath = dataset_aligned.getFilepaths(index)\n",
    "interval = (0,t_chroma[-1])\n",
    "fig,ax = plt.subplots(3,1,figsize=(14,10))\n",
    "fig.tight_layout(pad=3)\n",
    "utils.plotChroma(ax[1],chroma,time=interval)\n",
    "utils.plotAudioWaveform(ax[0],audiopath,time=interval)\n",
    "_,chroma_unprocessed,_,_ = dataset[index]\n",
    "utils.plotChroma(ax[2],chroma_unprocessed,time=interval)\n",
    "plt.close()\n",
    "\n",
    "interact(adjust_axes,\n",
    "         x = BoundedIntText(value=0,min=0,max=int(chroma.shape[0]/10),step=1,description='xlim:',disabled=False),\n",
    "         y = BoundedIntText(value=15,min=0,max=int(chroma.shape[0]/10),step=1,description='ylim:',disabled=False)\n",
    ")"
   ]
  },
  {
   "attachments": {},
   "cell_type": "markdown",
   "metadata": {},
   "source": [
    "Evaluation using MIREX Score"
   ]
  },
  {
   "cell_type": "code",
   "execution_count": 4,
   "metadata": {},
   "outputs": [
    {
     "name": "stdout",
     "output_type": "stream",
     "text": [
      "beatles_12_Let_It_Be_06_Let_It_Be: 84.48%\n"
     ]
    }
   ],
   "source": [
    "est_intervals, est_labels = mir_eval.util.adjust_intervals(\n",
    "            est_intervals, est_labels, ref_intervals.min(),\n",
    "            ref_intervals.max(), mir_eval.chord.NO_CHORD,\n",
    "            mir_eval.chord.NO_CHORD)\n",
    "(intervals,ref_labels,est_labels) = mir_eval.util.merge_labeled_intervals(\n",
    "    ref_intervals, ref_labels, est_intervals, est_labels)\n",
    "durations = mir_eval.util.intervals_to_durations(intervals)\n",
    "comparisons = mir_eval.chord.thirds(ref_labels, est_labels)\n",
    "score = mir_eval.chord.weighted_accuracy(comparisons, durations)\n",
    "print(f\"{dataset.getTitle(index)}: {round(score*100,2)}%\")"
   ]
  }
 ],
 "metadata": {
  "kernelspec": {
   "display_name": "Python 3",
   "language": "python",
   "name": "python3"
  },
  "language_info": {
   "codemirror_mode": {
    "name": "ipython",
    "version": 3
   },
   "file_extension": ".py",
   "mimetype": "text/x-python",
   "name": "python",
   "nbconvert_exporter": "python",
   "pygments_lexer": "ipython3",
   "version": "3.10.6"
  },
  "orig_nbformat": 4
 },
 "nbformat": 4,
 "nbformat_minor": 2
}
