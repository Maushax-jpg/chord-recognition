{
 "cells": [
  {
   "cell_type": "code",
   "execution_count": 15,
   "metadata": {},
   "outputs": [],
   "source": [
    "import dataloader\n",
    "import madmom\n",
    "import utilities\n",
    "import features\n",
    "import librosa\n",
    "import scipy\n",
    "import matplotlib.pyplot as plt\n",
    "import numpy as np\n",
    "\n",
    "def harmonicPercussiveResidualSeparation(sig,beta=2,n_fft=1024,fs=22050):\n",
    "    time_filter_length = 0.2 # seconds\n",
    "    frequency_filter_length = 500 # Hz\n",
    "    hs = n_fft // 2 # hopsize\n",
    "    X = librosa.stft(sig,n_fft=n_fft,hop_length=n_fft//2)\n",
    "    Y = np.abs(X) \n",
    "    L_med_f = int(500 / (fs/n))\n",
    "    L_med_t = int(0.2 / (hs /fs))\n",
    "    Y_p = scipy.ndimage.median_filter(Y, (L_med_f,1))\n",
    "    Y_h = scipy.ndimage.median_filter(Y, (1,L_med_t))\n",
    "\n",
    "    M_h = Y_h / (Y_p+np.finfo(float).eps) > beta\n",
    "    M_p = Y_p / (Y_h+np.finfo(float).eps) >= beta\n",
    "    M_r = np.ones_like(M_h) ^ (M_h + M_p)\n",
    "\n",
    "    X_h = M_h * X\n",
    "    X_p = M_p * X\n",
    "    X_r = M_r * X\n",
    "\n",
    "    y_harm = librosa.istft(X_h,n_fft=n,hop_length=hs)\n",
    "    y_perc = librosa.istft(X_p,n_fft=n,hop_length=hs)\n",
    "    y_res = librosa.istft(X_r,n_fft=n,hop_length=hs)\n",
    "    return y_harm,y_perc,y_res\n",
    "    \n",
    "model_path = [f\"/home/max/ET-TI/Masterarbeit/models/ismir2016/chroma_dnn_3.pkl\"]\n",
    "dcp = madmom.audio.chroma.DeepChromaProcessor(fmin=30, fmax=5500, unique_filters=False,models=model_path)\n",
    "dataset = dataloader.MIRDataset(\"beatles\",basepath=\"/home/max/ET-TI/Masterarbeit/mirdata/\",split_nr=3)\n",
    "audiopath,gt = dataset[\"0105\"]  # 1206 letitbe, 1208 i've got a feeling,girl  0609, 0304"
   ]
  },
  {
   "cell_type": "code",
   "execution_count": 67,
   "metadata": {},
   "outputs": [],
   "source": [
    "# DEMO violin+drums\n",
    "t_vec, sig_violin = utilities.loadAudio(\"/home/max/ET-TI/Masterarbeit/datasets/violin.wav\")\n",
    "t_vec, sig_drums = utilities.loadAudio(\"/home/max/ET-TI/Masterarbeit/datasets/drums.wav\")\n",
    "sig = sig_violin+sig_drums\n",
    "y_harm,y_perc,y_res = harmonicPercussiveResidualSeparation(sig,beta=2,n_fft=4096)\n",
    "_,y_perc,_ = harmonicPercussiveResidualSeparation(y_perc+y_res,beta=2,n_fft=512)\n",
    "\n",
    "y_harm = y_harm/np.max(y_harm)\n",
    "y_perc = y_perc/np.max(y_perc)\n",
    "scipy.io.wavfile.write(\"/home/max/ET-TI/Masterarbeit/datasets/harmonic_example.wav\", 22050, y_harm.astype(np.float32))\n",
    "scipy.io.wavfile.write(\"/home/max/ET-TI/Masterarbeit/datasets/percussive_example.wav\", 22050, y_perc.astype(np.float32))\n"
   ]
  }
 ],
 "metadata": {
  "kernelspec": {
   "display_name": "Python 3",
   "language": "python",
   "name": "python3"
  },
  "language_info": {
   "codemirror_mode": {
    "name": "ipython",
    "version": 3
   },
   "file_extension": ".py",
   "mimetype": "text/x-python",
   "name": "python",
   "nbconvert_exporter": "python",
   "pygments_lexer": "ipython3",
   "version": "3.10.12"
  }
 },
 "nbformat": 4,
 "nbformat_minor": 2
}
