{
 "cells": [
  {
   "cell_type": "code",
   "execution_count": 21,
   "metadata": {},
   "outputs": [
    {
     "name": "stdout",
     "output_type": "stream",
     "text": [
      "Starting Transcription!\n"
     ]
    },
    {
     "name": "stderr",
     "output_type": "stream",
     "text": [
      "fold 1/8: 100%|██████████| 23/23 [13:03<00:00, 34.06s/it]\n",
      "fold 2/8: 100%|██████████| 22/22 [22:04<00:00, 60.22s/it] \n",
      "fold 3/8: 100%|██████████| 22/22 [14:22<00:00, 39.23s/it]\n",
      "fold 4/8: 100%|██████████| 22/22 [22:43<00:00, 61.97s/it] \n",
      "fold 5/8: 100%|██████████| 22/22 [15:03<00:00, 41.08s/it]\n",
      "fold 6/8: 100%|██████████| 22/22 [14:51<00:00, 40.50s/it]\n",
      "fold 7/8: 100%|██████████| 23/23 [14:51<00:00, 38.78s/it]\n",
      "fold 8/8: 100%|██████████| 23/23 [14:41<00:00, 38.34s/it]"
     ]
    },
    {
     "name": "stdout",
     "output_type": "stream",
     "text": [
      "majmin: 0.69, segmentation: 0.74\n"
     ]
    },
    {
     "name": "stderr",
     "output_type": "stream",
     "text": [
      "\n"
     ]
    }
   ],
   "source": [
    "# load dataset\n",
    "import dataloader\n",
    "import utilities\n",
    "import transcribe\n",
    "import madmom\n",
    "import os\n",
    "import features\n",
    "import numpy as np\n",
    "from tqdm import tqdm\n",
    "\n",
    "parameters = {\n",
    "        \"chroma_type\":\"crp\",  # cqt,crp\n",
    "        \"vocabulary\":\"majmin\",  # majmin, triads, triads_extended or majmin_sevenths\n",
    "        \"eval_scheme\":\"majmin\",\n",
    "        \"source_separation\":\"demucs\", # hprs, demucs or None\n",
    "        \"prefilter\":\"rp\", # None, \"median\"#\n",
    "        \"embedding\":5,\n",
    "        \"neighbours\":15,\n",
    "        \"prefilter_length\":12,  # N \n",
    "        \"postfilter\":\"hmm\", # None, \"hmm\" or \"median\"\n",
    "        \"transition_prob\":0.2,  # 0..1\n",
    "        \"postfilter_length\":1, # N\n",
    "        \"dataset\":\"beatles\"  # rwc_popular\n",
    "}\n",
    "\n",
    "PATH = \"/home/max/ET-TI/Masterarbeit/mirdata/\"\n",
    "output_path = \"/home/max/ET-TI/Masterarbeit/results/\"\n",
    "results= []\n",
    "print(f\"Starting Transcription!\")\n",
    "for fold in range(1,9):\n",
    "    fold_score = 0.0\n",
    "    fold_seg_score = 0.0\n",
    "    dataset = dataloader.MIRDataset(parameters.get(\"dataset\",\"beatles\"),basepath=PATH,split_nr=fold)\n",
    "    for track_id in tqdm(dataset.getTrackList(),desc=f\"fold {fold}/8\"):\n",
    "        name = dataset.getTitle(track_id).split(\"_-_\")[-1]\n",
    "        audiopath,(ref_intervals,ref_labels) = dataset[track_id]\n",
    "\n",
    "        ## HPS ##\n",
    "        if parameters.get(\"source_separation\",False) == \"hprs\":\n",
    "            time_vector,signal = utilities.loadAudio(audiopath)\n",
    "            y_harm,y_perc,y_res = transcribe.harmonicPercussiveResidualSeparation(signal,beta=3,n_fft=4096)\n",
    "            signal = madmom.audio.signal.Signal(y_harm, sample_rate=signal.sample_rate, num_channels=1, start=signal.start, stop=signal.stop)\n",
    "            rms = features.rms(signal,hop_length=4096)\n",
    "        elif parameters.get(\"source_separation\",False) == \"demucs\":\n",
    "            basepath,filename = os.path.split(audiopath)\n",
    "            filename = filename.rsplit('.', 1)[0]\n",
    "            audiopath = basepath+\"/instrumentals/\"+filename+\"_instrumental.mp3\"\n",
    "            time_vector,signal = utilities.loadAudio(audiopath)\n",
    "            rms = features.rms(signal,hop_length=4096)\n",
    "        else:\n",
    "            time_vector,signal = utilities.loadAudio(audiopath)\n",
    "            rms = features.rms(signal,hop_length=4096)\n",
    "\n",
    "        if parameters.get(\"chroma_type\",\"crp\") == \"crp\":    \n",
    "            t_chroma,chroma = features.crpChroma(signal)\n",
    "        elif parameters.get(\"chroma_type\") == \"dcp\":\n",
    "            t_chroma,chroma = features.deepChroma(signal,split_nr=fold)\n",
    "        else:\n",
    "            t_chroma,chroma = features.cqtChroma(signal)\n",
    "        est_intervals, est_labels = transcribe.transcribeChromagram(t_chroma,chroma,rms,**parameters)\n",
    "        score,seg_score = transcribe.evaluateTranscription(est_intervals,est_labels,ref_intervals,ref_labels,parameters.get(\"eval_scheme\",\"majmin\"))\n",
    "        results.append((name,score,seg_score))\n",
    "\n",
    "mean_score = np.mean(np.array([x[1] for x in results]))\n",
    "mean_seg_score = np.mean(np.array([x[2] for x in results]))\n",
    "print(f\"{parameters.get('eval_scheme','majmin')}: {round(mean_score,2)}, segmentation: {round(mean_seg_score,2)}\")\n"
   ]
  },
  {
   "cell_type": "markdown",
   "metadata": {},
   "source": [
    "CRP, N=10, p=0.2 : majmin: 0.69, segmentation: 0.75\n",
    "CRP, N=12, p=0.15 : majmin: 0.69, segmentation: 0.75\n",
    "CRP, N=15, p=0.15 : majmin: 0.69, segmentation: 0.74 \n",
    "DEMUCS, CRP : majmin: 0.72, segmentation: 0.76\n",
    "DEMUCS, CRP RP(5,15) majmin: 0.69, segmentation 0.74\n",
    "HPRS, CRP: majmin: 0.7 , segmentation: 0.75\n"
   ]
  },
  {
   "cell_type": "markdown",
   "metadata": {},
   "source": [
    "Reference Model: Deep chroma processor\n",
    "majmin: 0.84, segmentation: 0.89"
   ]
  },
  {
   "cell_type": "code",
   "execution_count": 18,
   "metadata": {},
   "outputs": [
    {
     "name": "stderr",
     "output_type": "stream",
     "text": [
      "fold 1/8: 100%|██████████| 23/23 [00:24<00:00,  1.07s/it]\n",
      "fold 2/8: 100%|██████████| 22/22 [00:30<00:00,  1.38s/it]\n",
      "fold 3/8: 100%|██████████| 22/22 [00:28<00:00,  1.28s/it]\n",
      "fold 4/8: 100%|██████████| 22/22 [00:37<00:00,  1.72s/it]\n",
      "fold 5/8: 100%|██████████| 22/22 [00:26<00:00,  1.22s/it]\n",
      "fold 6/8: 100%|██████████| 22/22 [00:29<00:00,  1.36s/it]\n",
      "fold 7/8: 100%|██████████| 23/23 [00:42<00:00,  1.84s/it]\n",
      "fold 8/8: 100%|██████████| 23/23 [00:33<00:00,  1.44s/it]"
     ]
    },
    {
     "name": "stdout",
     "output_type": "stream",
     "text": [
      "parameters.get('eval_scheme','majmin'): 0.84, segmentation: 0.89\n"
     ]
    },
    {
     "name": "stderr",
     "output_type": "stream",
     "text": [
      "\n"
     ]
    }
   ],
   "source": [
    "import numpy as np\n",
    "results = []\n",
    "for fold in range(1,9):\n",
    "    dataset = dataloader.MIRDataset(parameters.get(\"dataset\",\"beatles\"),basepath=PATH,split_nr=fold)\n",
    "    for track_id in tqdm(dataset.getTrackList(),desc=f\"fold {fold}/8\"):\n",
    "        name = dataset.getTitle(track_id).split(\"_-_\")[-1]\n",
    "        audiopath,(ref_intervals,ref_labels) = dataset[track_id]\n",
    "        time_vector,signal = utilities.loadAudio(audiopath)\n",
    "        t_chroma,chroma = features.deepChroma(signal,split_nr=fold)\n",
    "        est_intervals,est_labels = transcribe.transcribeDeepChroma(t_chroma,chroma)\n",
    "        score,seg_score = transcribe.evaluateTranscription(est_intervals,est_labels,ref_intervals,ref_labels,parameters.get(\"eval_scheme\",\"majmin\"))\n",
    "        results.append((name,score,seg_score))\n",
    "\n",
    "mean_score = np.mean(np.array([x[1] for x in results]))\n",
    "mean_seg_score = np.mean(np.array([x[2] for x in results]))\n",
    "print(f\"{parameters.get('eval_scheme','majmin')}: {round(mean_score,2)}, segmentation: {round(mean_seg_score,2)}\")\n"
   ]
  }
 ],
 "metadata": {
  "kernelspec": {
   "display_name": "Python 3",
   "language": "python",
   "name": "python3"
  },
  "language_info": {
   "codemirror_mode": {
    "name": "ipython",
    "version": 3
   },
   "file_extension": ".py",
   "mimetype": "text/x-python",
   "name": "python",
   "nbconvert_exporter": "python",
   "pygments_lexer": "ipython3",
   "version": "3.10.12"
  }
 },
 "nbformat": 4,
 "nbformat_minor": 2
}
